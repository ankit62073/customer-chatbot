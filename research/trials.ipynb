{
 "cells": [
  {
   "cell_type": "code",
   "execution_count": 1,
   "metadata": {},
   "outputs": [
    {
     "name": "stdout",
     "output_type": "stream",
     "text": [
      "OK\n"
     ]
    }
   ],
   "source": [
    "print(\"OK\")"
   ]
  },
  {
   "cell_type": "code",
   "execution_count": 2,
   "metadata": {},
   "outputs": [],
   "source": [
    "import pandas as pd"
   ]
  },
  {
   "cell_type": "code",
   "execution_count": 26,
   "metadata": {},
   "outputs": [],
   "source": [
    "from langchain import PromptTemplate\n",
    "from langchain.chains import RetrievalQA\n",
    "from langchain.embeddings import HuggingFaceEmbeddings\n",
    "from langchain.prompts import PromptTemplate\n",
    "from langchain.llms import CTransformers\n",
    "from langchain_pinecone import PineconeVectorStore\n",
    "from langchain.schema import Document\n",
    "from langchain.vectorstores import FAISS"
   ]
  },
  {
   "cell_type": "code",
   "execution_count": 4,
   "metadata": {},
   "outputs": [],
   "source": [
    "# Load the dataset\n",
    "file_path = '../data/Large_Website_Development_Agency_Chatbot_Dataset.csv'\n",
    "data = pd.read_csv(file_path)"
   ]
  },
  {
   "cell_type": "code",
   "execution_count": 8,
   "metadata": {},
   "outputs": [
    {
     "name": "stdout",
     "output_type": "stream",
     "text": [
      "                                          User Query  \\\n",
      "0  What platforms do you work with? Can you help me?   \n",
      "1  I need help with what platforms do you work wi...   \n",
      "2  Can I update my website content? Can you help me?   \n",
      "3  Do you have examples of past work? Please prov...   \n",
      "4      Do you offer do you provide ongoing support??   \n",
      "\n",
      "                                            Response  \n",
      "0  We work with various platforms, including Word...  \n",
      "1  We work with various platforms, including Word...  \n",
      "2  We can build your site with a content manageme...  \n",
      "3  Yes, you can view our portfolio on our website...  \n",
      "4  Yes, we offer ongoing support and maintenance ...  \n"
     ]
    }
   ],
   "source": [
    "# Preview the data\n",
    "print(data.head())"
   ]
  },
  {
   "cell_type": "code",
   "execution_count": 9,
   "metadata": {},
   "outputs": [],
   "source": [
    "# Check for missing values and drop them\n",
    "data.dropna(inplace=True)"
   ]
  },
  {
   "cell_type": "code",
   "execution_count": 10,
   "metadata": {},
   "outputs": [],
   "source": [
    "# Convert the columns to lists\n",
    "queries = data['User Query'].tolist()\n",
    "responses = data['Response'].tolist()"
   ]
  },
  {
   "cell_type": "code",
   "execution_count": 38,
   "metadata": {},
   "outputs": [],
   "source": [
    "# Create combined documents for each query and response\n",
    "combined_documents = [\n",
    "    Document(\n",
    "        page_content=f\"Query: {queries[i]} Response: {responses[i]}\",\n",
    "        metadata={\"index\": i, \"type\": \"query-response\"}\n",
    "    )\n",
    "    for i in range(len(queries))\n",
    "]"
   ]
  },
  {
   "cell_type": "code",
   "execution_count": 39,
   "metadata": {},
   "outputs": [
    {
     "data": {
      "text/plain": [
       "[Document(metadata={'index': 0, 'type': 'query-response'}, page_content=\"Query: What platforms do you work with? Can you help me? Response: We work with various platforms, including WordPress, Shopify, Magento, and custom solutions. Let's get started.\"),\n",
       " Document(metadata={'index': 1, 'type': 'query-response'}, page_content='Query: I need help with what platforms do you work with?. Response: We work with various platforms, including WordPress, Shopify, Magento, and custom solutions. Our team is ready to assist.'),\n",
       " Document(metadata={'index': 2, 'type': 'query-response'}, page_content=\"Query: Can I update my website content? Can you help me? Response: We can build your site with a content management system (CMS) that allows you to easily update content yourself. Let's get started.\"),\n",
       " Document(metadata={'index': 3, 'type': 'query-response'}, page_content=\"Query: Do you have examples of past work? Please provide more details. Response: Yes, you can view our portfolio on our website to see some of our previous projects. We're here to help.\"),\n",
       " Document(metadata={'index': 4, 'type': 'query-response'}, page_content='Query: Do you offer do you provide ongoing support?? Response: Yes, we offer ongoing support and maintenance to ensure your website runs smoothly. Contact us for more info.'),\n",
       " Document(metadata={'index': 5, 'type': 'query-response'}, page_content='Query: Do you have examples of past work? Response: Yes, you can view our portfolio on our website to see some of our previous projects.'),\n",
       " Document(metadata={'index': 6, 'type': 'query-response'}, page_content='Query: What services do you offer? Response: We offer website design, development, e-commerce solutions, SEO, and maintenance services.'),\n",
       " Document(metadata={'index': 7, 'type': 'query-response'}, page_content='Query: Can you explain how do i get started with a project?? Response: Start by contacting us with your project details, and we’ll guide you through the process from planning to launch. Feel free to ask more.'),\n",
       " Document(metadata={'index': 8, 'type': 'query-response'}, page_content=\"Query: How long will it take to develop my website? Can you help me? Response: Typical projects take 4-6 weeks, depending on the requirements. We’ll provide a timeline after discussing your needs. Let's get started.\"),\n",
       " Document(metadata={'index': 9, 'type': 'query-response'}, page_content=\"Query: Do you offer custom website designs? Please provide more details. Response: Absolutely! We specialize in creating custom, user-friendly website designs tailored to your brand. We're here to help.\"),\n",
       " Document(metadata={'index': 10, 'type': 'query-response'}, page_content='Query: Do you offer custom website designs? Response: Absolutely! We specialize in creating custom, user-friendly website designs tailored to your brand.'),\n",
       " Document(metadata={'index': 11, 'type': 'query-response'}, page_content='Query: Can you explain how long will it take to develop my website?? Response: Typical projects take 4-6 weeks, depending on the requirements. We’ll provide a timeline after discussing your needs. Feel free to ask more.'),\n",
       " Document(metadata={'index': 12, 'type': 'query-response'}, page_content='Query: Can you explain can i update my website content?? Response: We can build your site with a content management system (CMS) that allows you to easily update content yourself. Feel free to ask more.'),\n",
       " Document(metadata={'index': 13, 'type': 'query-response'}, page_content=\"Query: Do you provide ongoing support? Can you help me? Response: Yes, we offer ongoing support and maintenance to ensure your website runs smoothly. Let's get started.\"),\n",
       " Document(metadata={'index': 14, 'type': 'query-response'}, page_content=\"Query: Can you explain can you help with seo?? Response: Yes, we offer comprehensive SEO services to improve your website's visibility on search engines. Feel free to ask more.\"),\n",
       " Document(metadata={'index': 15, 'type': 'query-response'}, page_content='Query: Do you offer how do i get started with a project?? Response: Start by contacting us with your project details, and we’ll guide you through the process from planning to launch. Contact us for more info.'),\n",
       " Document(metadata={'index': 16, 'type': 'query-response'}, page_content=\"Query: Can you help with SEO? Please provide more details. Response: Yes, we offer comprehensive SEO services to improve your website's visibility on search engines. We're here to help.\"),\n",
       " Document(metadata={'index': 17, 'type': 'query-response'}, page_content=\"Query: I need help with can you help with seo?. Response: Yes, we offer comprehensive SEO services to improve your website's visibility on search engines. Our team is ready to assist.\"),\n",
       " Document(metadata={'index': 18, 'type': 'query-response'}, page_content='Query: I need help with how much does a website cost?. Response: The cost depends on the complexity and features of the website. Contact us for a detailed quote. Our team is ready to assist.'),\n",
       " Document(metadata={'index': 19, 'type': 'query-response'}, page_content='Query: Can you explain do you provide ongoing support?? Response: Yes, we offer ongoing support and maintenance to ensure your website runs smoothly. Feel free to ask more.'),\n",
       " Document(metadata={'index': 20, 'type': 'query-response'}, page_content='Query: Can I update my website content? Response: We can build your site with a content management system (CMS) that allows you to easily update content yourself.'),\n",
       " Document(metadata={'index': 21, 'type': 'query-response'}, page_content=\"Query: Do you offer can you help with seo?? Response: Yes, we offer comprehensive SEO services to improve your website's visibility on search engines. Contact us for more info.\"),\n",
       " Document(metadata={'index': 22, 'type': 'query-response'}, page_content=\"Query: Do you provide ongoing support? Please provide more details. Response: Yes, we offer ongoing support and maintenance to ensure your website runs smoothly. We're here to help.\"),\n",
       " Document(metadata={'index': 23, 'type': 'query-response'}, page_content=\"Query: What services do you offer? Can you help me? Response: We offer website design, development, e-commerce solutions, SEO, and maintenance services. Let's get started.\"),\n",
       " Document(metadata={'index': 24, 'type': 'query-response'}, page_content='Query: Do you offer can i update my website content?? Response: We can build your site with a content management system (CMS) that allows you to easily update content yourself. Contact us for more info.'),\n",
       " Document(metadata={'index': 25, 'type': 'query-response'}, page_content='Query: Can you explain how much does a website cost?? Response: The cost depends on the complexity and features of the website. Contact us for a detailed quote. Feel free to ask more.'),\n",
       " Document(metadata={'index': 26, 'type': 'query-response'}, page_content='Query: Do you provide ongoing support? Response: Yes, we offer ongoing support and maintenance to ensure your website runs smoothly.'),\n",
       " Document(metadata={'index': 27, 'type': 'query-response'}, page_content='Query: How do I get started with a project? Response: Start by contacting us with your project details, and we’ll guide you through the process from planning to launch.'),\n",
       " Document(metadata={'index': 28, 'type': 'query-response'}, page_content='Query: How long will it take to develop my website? Response: Typical projects take 4-6 weeks, depending on the requirements. We’ll provide a timeline after discussing your needs.'),\n",
       " Document(metadata={'index': 29, 'type': 'query-response'}, page_content=\"Query: How do I get started with a project? Can you help me? Response: Start by contacting us with your project details, and we’ll guide you through the process from planning to launch. Let's get started.\"),\n",
       " Document(metadata={'index': 30, 'type': 'query-response'}, page_content='Query: Can you explain do you have examples of past work?? Response: Yes, you can view our portfolio on our website to see some of our previous projects. Feel free to ask more.'),\n",
       " Document(metadata={'index': 31, 'type': 'query-response'}, page_content='Query: Do you offer do you offer custom website designs?? Response: Absolutely! We specialize in creating custom, user-friendly website designs tailored to your brand. Contact us for more info.'),\n",
       " Document(metadata={'index': 32, 'type': 'query-response'}, page_content='Query: How much does a website cost? Response: The cost depends on the complexity and features of the website. Contact us for a detailed quote.'),\n",
       " Document(metadata={'index': 33, 'type': 'query-response'}, page_content=\"Query: How much does a website cost? Please provide more details. Response: The cost depends on the complexity and features of the website. Contact us for a detailed quote. We're here to help.\"),\n",
       " Document(metadata={'index': 34, 'type': 'query-response'}, page_content='Query: Can you explain what services do you offer?? Response: We offer website design, development, e-commerce solutions, SEO, and maintenance services. Feel free to ask more.'),\n",
       " Document(metadata={'index': 35, 'type': 'query-response'}, page_content='Query: Do you offer what platforms do you work with?? Response: We work with various platforms, including WordPress, Shopify, Magento, and custom solutions. Contact us for more info.'),\n",
       " Document(metadata={'index': 36, 'type': 'query-response'}, page_content='Query: Do you offer do you have examples of past work?? Response: Yes, you can view our portfolio on our website to see some of our previous projects. Contact us for more info.'),\n",
       " Document(metadata={'index': 37, 'type': 'query-response'}, page_content='Query: I need help with can i update my website content?. Response: We can build your site with a content management system (CMS) that allows you to easily update content yourself. Our team is ready to assist.'),\n",
       " Document(metadata={'index': 38, 'type': 'query-response'}, page_content='Query: I need help with do you have examples of past work?. Response: Yes, you can view our portfolio on our website to see some of our previous projects. Our team is ready to assist.'),\n",
       " Document(metadata={'index': 39, 'type': 'query-response'}, page_content=\"Query: Can you help with SEO? Response: Yes, we offer comprehensive SEO services to improve your website's visibility on search engines.\"),\n",
       " Document(metadata={'index': 40, 'type': 'query-response'}, page_content=\"Query: What platforms do you work with? Please provide more details. Response: We work with various platforms, including WordPress, Shopify, Magento, and custom solutions. We're here to help.\"),\n",
       " Document(metadata={'index': 41, 'type': 'query-response'}, page_content='Query: I need help with do you offer custom website designs?. Response: Absolutely! We specialize in creating custom, user-friendly website designs tailored to your brand. Our team is ready to assist.'),\n",
       " Document(metadata={'index': 42, 'type': 'query-response'}, page_content='Query: What platforms do you work with? Response: We work with various platforms, including WordPress, Shopify, Magento, and custom solutions.'),\n",
       " Document(metadata={'index': 43, 'type': 'query-response'}, page_content='Query: Can you explain what platforms do you work with?? Response: We work with various platforms, including WordPress, Shopify, Magento, and custom solutions. Feel free to ask more.'),\n",
       " Document(metadata={'index': 44, 'type': 'query-response'}, page_content='Query: I need help with what services do you offer?. Response: We offer website design, development, e-commerce solutions, SEO, and maintenance services. Our team is ready to assist.'),\n",
       " Document(metadata={'index': 45, 'type': 'query-response'}, page_content='Query: I need help with how do i get started with a project?. Response: Start by contacting us with your project details, and we’ll guide you through the process from planning to launch. Our team is ready to assist.'),\n",
       " Document(metadata={'index': 46, 'type': 'query-response'}, page_content='Query: Do you offer how long will it take to develop my website?? Response: Typical projects take 4-6 weeks, depending on the requirements. We’ll provide a timeline after discussing your needs. Contact us for more info.'),\n",
       " Document(metadata={'index': 47, 'type': 'query-response'}, page_content=\"Query: How long will it take to develop my website? Please provide more details. Response: Typical projects take 4-6 weeks, depending on the requirements. We’ll provide a timeline after discussing your needs. We're here to help.\"),\n",
       " Document(metadata={'index': 48, 'type': 'query-response'}, page_content='Query: I need help with how long will it take to develop my website?. Response: Typical projects take 4-6 weeks, depending on the requirements. We’ll provide a timeline after discussing your needs. Our team is ready to assist.'),\n",
       " Document(metadata={'index': 49, 'type': 'query-response'}, page_content='Query: I need help with do you provide ongoing support?. Response: Yes, we offer ongoing support and maintenance to ensure your website runs smoothly. Our team is ready to assist.'),\n",
       " Document(metadata={'index': 50, 'type': 'query-response'}, page_content=\"Query: Do you have examples of past work? Can you help me? Response: Yes, you can view our portfolio on our website to see some of our previous projects. Let's get started.\"),\n",
       " Document(metadata={'index': 51, 'type': 'query-response'}, page_content='Query: Do you offer what services do you offer?? Response: We offer website design, development, e-commerce solutions, SEO, and maintenance services. Contact us for more info.'),\n",
       " Document(metadata={'index': 52, 'type': 'query-response'}, page_content='Query: Can you explain do you offer custom website designs?? Response: Absolutely! We specialize in creating custom, user-friendly website designs tailored to your brand. Feel free to ask more.'),\n",
       " Document(metadata={'index': 53, 'type': 'query-response'}, page_content=\"Query: How do I get started with a project? Please provide more details. Response: Start by contacting us with your project details, and we’ll guide you through the process from planning to launch. We're here to help.\"),\n",
       " Document(metadata={'index': 54, 'type': 'query-response'}, page_content=\"Query: Do you offer custom website designs? Can you help me? Response: Absolutely! We specialize in creating custom, user-friendly website designs tailored to your brand. Let's get started.\"),\n",
       " Document(metadata={'index': 55, 'type': 'query-response'}, page_content='Query: Do you offer how much does a website cost?? Response: The cost depends on the complexity and features of the website. Contact us for a detailed quote. Contact us for more info.'),\n",
       " Document(metadata={'index': 56, 'type': 'query-response'}, page_content=\"Query: What services do you offer? Please provide more details. Response: We offer website design, development, e-commerce solutions, SEO, and maintenance services. We're here to help.\"),\n",
       " Document(metadata={'index': 57, 'type': 'query-response'}, page_content=\"Query: How much does a website cost? Can you help me? Response: The cost depends on the complexity and features of the website. Contact us for a detailed quote. Let's get started.\"),\n",
       " Document(metadata={'index': 58, 'type': 'query-response'}, page_content=\"Query: Can you help with SEO? Can you help me? Response: Yes, we offer comprehensive SEO services to improve your website's visibility on search engines. Let's get started.\"),\n",
       " Document(metadata={'index': 59, 'type': 'query-response'}, page_content=\"Query: Can I update my website content? Please provide more details. Response: We can build your site with a content management system (CMS) that allows you to easily update content yourself. We're here to help.\")]"
      ]
     },
     "execution_count": 39,
     "metadata": {},
     "output_type": "execute_result"
    }
   ],
   "source": [
    "combined_documents"
   ]
  },
  {
   "cell_type": "code",
   "execution_count": 16,
   "metadata": {},
   "outputs": [],
   "source": [
    "# download embedding model\n",
    "def download_hugging_face_embeddings():\n",
    "    embeddings = HuggingFaceEmbeddings(model_name = \"sentence-transformers/all-MiniLM-L6-v2\")\n",
    "    return embeddings"
   ]
  },
  {
   "cell_type": "code",
   "execution_count": 17,
   "metadata": {},
   "outputs": [
    {
     "name": "stderr",
     "output_type": "stream",
     "text": [
      "c:\\Users\\ANKIT SINGH\\anaconda3\\envs\\chatbot\\lib\\site-packages\\langchain_core\\_api\\deprecation.py:151: LangChainDeprecationWarning: The class `HuggingFaceEmbeddings` was deprecated in LangChain 0.2.2 and will be removed in 0.3.0. An updated version of the class exists in the langchain-huggingface package and should be used instead. To use it run `pip install -U langchain-huggingface` and import as `from langchain_huggingface import HuggingFaceEmbeddings`.\n",
      "  warn_deprecated(\n",
      "c:\\Users\\ANKIT SINGH\\anaconda3\\envs\\chatbot\\lib\\site-packages\\transformers\\tokenization_utils_base.py:1601: FutureWarning: `clean_up_tokenization_spaces` was not set. It will be set to `True` by default. This behavior will be depracted in transformers v4.45, and will be then set to `False` by default. For more details check this issue: https://github.com/huggingface/transformers/issues/31884\n",
      "  warnings.warn(\n"
     ]
    }
   ],
   "source": [
    "embeddings = download_hugging_face_embeddings()"
   ]
  },
  {
   "cell_type": "code",
   "execution_count": 18,
   "metadata": {},
   "outputs": [
    {
     "data": {
      "text/plain": [
       "HuggingFaceEmbeddings(client=SentenceTransformer(\n",
       "  (0): Transformer({'max_seq_length': 256, 'do_lower_case': False}) with Transformer model: BertModel \n",
       "  (1): Pooling({'word_embedding_dimension': 384, 'pooling_mode_cls_token': False, 'pooling_mode_mean_tokens': True, 'pooling_mode_max_tokens': False, 'pooling_mode_mean_sqrt_len_tokens': False, 'pooling_mode_weightedmean_tokens': False, 'pooling_mode_lasttoken': False, 'include_prompt': True})\n",
       "  (2): Normalize()\n",
       "), model_name='sentence-transformers/all-MiniLM-L6-v2', cache_folder=None, model_kwargs={}, encode_kwargs={}, multi_process=False, show_progress=False)"
      ]
     },
     "execution_count": 18,
     "metadata": {},
     "output_type": "execute_result"
    }
   ],
   "source": [
    "embeddings"
   ]
  },
  {
   "cell_type": "code",
   "execution_count": 19,
   "metadata": {},
   "outputs": [],
   "source": [
    "import os\n",
    "os.environ[\"PINECONE_API_KEY\"] = \"d4ac0dc4-c8bd-44e4-8d66-94043f8c8c59\""
   ]
  },
  {
   "cell_type": "code",
   "execution_count": 20,
   "metadata": {},
   "outputs": [],
   "source": [
    "index_name = \"customer-chatbot\""
   ]
  },
  {
   "cell_type": "code",
   "execution_count": 40,
   "metadata": {},
   "outputs": [],
   "source": [
    "dosearch = PineconeVectorStore.from_documents(documents=combined_documents,\n",
    "    embedding=embeddings,\n",
    "    index_name=index_name)"
   ]
  },
  {
   "cell_type": "code",
   "execution_count": 41,
   "metadata": {},
   "outputs": [
    {
     "name": "stdout",
     "output_type": "stream",
     "text": [
      "Result [Document(metadata={'index': 24.0, 'type': 'query-response'}, page_content='Query: Do you offer can i update my website content?? Response: We can build your site with a content management system (CMS) that allows you to easily update content yourself. Contact us for more info.'), Document(metadata={'index': 59.0, 'type': 'query-response'}, page_content=\"Query: Can I update my website content? Please provide more details. Response: We can build your site with a content management system (CMS) that allows you to easily update content yourself. We're here to help.\"), Document(metadata={'index': 20.0, 'type': 'query-response'}, page_content='Query: Can I update my website content? Response: We can build your site with a content management system (CMS) that allows you to easily update content yourself.')]\n"
     ]
    }
   ],
   "source": [
    "query = \"Can I update my website content?\"\n",
    "docs = dosearch.similarity_search(query, k=3)\n",
    "print(\"Result\",docs)"
   ]
  },
  {
   "cell_type": "code",
   "execution_count": 42,
   "metadata": {},
   "outputs": [
    {
     "data": {
      "text/plain": [
       "Document(metadata={'index': 24.0, 'type': 'query-response'}, page_content='Query: Do you offer can i update my website content?? Response: We can build your site with a content management system (CMS) that allows you to easily update content yourself. Contact us for more info.')"
      ]
     },
     "execution_count": 42,
     "metadata": {},
     "output_type": "execute_result"
    }
   ],
   "source": [
    "docs[0]"
   ]
  },
  {
   "cell_type": "code",
   "execution_count": 47,
   "metadata": {},
   "outputs": [],
   "source": [
    "response = docs[0].page_content.split(\"Response:\", 1)[1].strip()"
   ]
  },
  {
   "cell_type": "code",
   "execution_count": 48,
   "metadata": {},
   "outputs": [
    {
     "name": "stdout",
     "output_type": "stream",
     "text": [
      "We can build your site with a content management system (CMS) that allows you to easily update content yourself. Contact us for more info.\n"
     ]
    }
   ],
   "source": [
    "print(response)"
   ]
  },
  {
   "cell_type": "code",
   "execution_count": 49,
   "metadata": {},
   "outputs": [],
   "source": [
    "prompt_template = \"\"\"\n",
    "Use the following pieces of information to answer the user's question.\n",
    "If you don't know the answer, just say that you don't know, don't try to make up an answer.\n",
    "\n",
    "Context: {context}\n",
    "Question: {question}\n",
    "\n",
    "Only return the helpful answer below and nothing else.\n",
    "Helpful answer:\n",
    "\"\"\""
   ]
  },
  {
   "cell_type": "code",
   "execution_count": 50,
   "metadata": {},
   "outputs": [],
   "source": [
    "prompt = PromptTemplate(template=prompt_template,\n",
    "                        input_variables=[\"context\", \"question\"])\n",
    "chain_type_kwargs={\"prompt\": prompt,\"verbose\": True}"
   ]
  },
  {
   "cell_type": "code",
   "execution_count": 52,
   "metadata": {},
   "outputs": [],
   "source": [
    "llm = CTransformers(model=r\"E:\\GTEC\\customer-chatbot\\model\\llama-2-7b-chat.ggmlv3.q4_0.bin\",\n",
    "                    model_type=\"llama\",\n",
    "                    config={'max_new_tokens':512,\n",
    "                            'temperature':0.8})"
   ]
  },
  {
   "cell_type": "code",
   "execution_count": 53,
   "metadata": {},
   "outputs": [],
   "source": [
    "qa = RetrievalQA.from_chain_type(\n",
    "    llm=llm,\n",
    "    retriever=dosearch.as_retriever(search_kwargs={'k': 2}),\n",
    "    chain_type=\"stuff\",\n",
    "    chain_type_kwargs=chain_type_kwargs,\n",
    "    return_source_documents=True)"
   ]
  },
  {
   "cell_type": "code",
   "execution_count": 57,
   "metadata": {},
   "outputs": [
    {
     "name": "stdout",
     "output_type": "stream",
     "text": [
      "\n",
      "\n",
      "\u001b[1m> Entering new StuffDocumentsChain chain...\u001b[0m\n",
      "\n",
      "\n",
      "\u001b[1m> Entering new LLMChain chain...\u001b[0m\n",
      "Prompt after formatting:\n",
      "\u001b[32;1m\u001b[1;3m\n",
      "Use the following pieces of information to answer the user's question.\n",
      "If you don't know the answer, just say that you don't know, don't try to make up an answer.\n",
      "\n",
      "Context: Query: Do you offer can i update my website content?? Response: We can build your site with a content management system (CMS) that allows you to easily update content yourself. Contact us for more info.\n",
      "\n",
      "Query: Can I update my website content? Please provide more details. Response: We can build your site with a content management system (CMS) that allows you to easily update content yourself. We're here to help.\n",
      "Question: Can I update my website content?\n",
      "\n",
      "Only return the helpful answer below and nothing else.\n",
      "Helpful answer:\n",
      "\u001b[0m\n",
      "\n",
      "\u001b[1m> Finished chain.\u001b[0m\n",
      "\n",
      "\u001b[1m> Finished chain.\u001b[0m\n"
     ]
    },
    {
     "ename": "AttributeError",
     "evalue": "'dict' object has no attribute 'page_content'",
     "output_type": "error",
     "traceback": [
      "\u001b[1;31m---------------------------------------------------------------------------\u001b[0m",
      "\u001b[1;31mAttributeError\u001b[0m                            Traceback (most recent call last)",
      "Cell \u001b[1;32mIn[57], line 4\u001b[0m\n\u001b[0;32m      2\u001b[0m user_input \u001b[38;5;241m=\u001b[39m \u001b[38;5;28minput\u001b[39m(\u001b[38;5;124mf\u001b[39m\u001b[38;5;124m\"\u001b[39m\u001b[38;5;124mInput Prompt\u001b[39m\u001b[38;5;124m\"\u001b[39m)\n\u001b[0;32m      3\u001b[0m result\u001b[38;5;241m=\u001b[39mqa({\u001b[38;5;124m\"\u001b[39m\u001b[38;5;124mquery\u001b[39m\u001b[38;5;124m\"\u001b[39m: user_input})\n\u001b[1;32m----> 4\u001b[0m response \u001b[38;5;241m=\u001b[39m \u001b[43mresult\u001b[49m\u001b[38;5;241;43m.\u001b[39;49m\u001b[43mpage_content\u001b[49m\u001b[38;5;241m.\u001b[39msplit(\u001b[38;5;124m\"\u001b[39m\u001b[38;5;124mResponse:\u001b[39m\u001b[38;5;124m\"\u001b[39m, \u001b[38;5;241m1\u001b[39m)[\u001b[38;5;241m1\u001b[39m]\u001b[38;5;241m.\u001b[39mstrip()\n\u001b[0;32m      5\u001b[0m \u001b[38;5;28mprint\u001b[39m(\u001b[38;5;124m\"\u001b[39m\u001b[38;5;124mResponse : \u001b[39m\u001b[38;5;124m\"\u001b[39m,response[\u001b[38;5;124m\"\u001b[39m\u001b[38;5;124mresult\u001b[39m\u001b[38;5;124m\"\u001b[39m])\n",
      "\u001b[1;31mAttributeError\u001b[0m: 'dict' object has no attribute 'page_content'"
     ]
    }
   ],
   "source": [
    "while True:\n",
    "    user_input = input(f\"Input Prompt\")\n",
    "    result=qa({\"query\": user_input})\n",
    "    response = result.page_content.split(\"Response:\", 1)[1].strip()\n",
    "    print(\"Response : \",response[\"result\"])"
   ]
  },
  {
   "cell_type": "code",
   "execution_count": 59,
   "metadata": {},
   "outputs": [
    {
     "name": "stdout",
     "output_type": "stream",
     "text": [
      "\n",
      "\n",
      "\u001b[1m> Entering new StuffDocumentsChain chain...\u001b[0m\n",
      "\n",
      "\n",
      "\u001b[1m> Entering new LLMChain chain...\u001b[0m\n",
      "Prompt after formatting:\n",
      "\u001b[32;1m\u001b[1;3m\n",
      "Use the following pieces of information to answer the user's question.\n",
      "If you don't know the answer, just say that you don't know, don't try to make up an answer.\n",
      "\n",
      "Context: Query: Do you offer can i update my website content?? Response: We can build your site with a content management system (CMS) that allows you to easily update content yourself. Contact us for more info.\n",
      "\n",
      "Query: Can I update my website content? Please provide more details. Response: We can build your site with a content management system (CMS) that allows you to easily update content yourself. We're here to help.\n",
      "Question: Can I update my website content?\"\n",
      "\n",
      "Only return the helpful answer below and nothing else.\n",
      "Helpful answer:\n",
      "\u001b[0m\n"
     ]
    }
   ],
   "source": [
    "while True:\n",
    "    # Take user input\n",
    "    user_input = input(\"Input Prompt: \")\n",
    "    \n",
    "    # Query the QA system with the user's input\n",
    "    result = qa({\"query\": user_input})\n",
    "    \n",
    "    # Extract the response content from the result\n",
    "    if result['source_documents']:\n",
    "        # Access the first source document's content and split to extract the response\n",
    "        response_text = result['source_documents'][0].page_content.split(\"Response:\", 1)[1].strip()\n",
    "        print(\"Response:\", response_text)\n",
    "    else:\n",
    "        print(\"No relevant response found.\")"
   ]
  }
 ],
 "metadata": {
  "kernelspec": {
   "display_name": "chatbot",
   "language": "python",
   "name": "python3"
  },
  "language_info": {
   "codemirror_mode": {
    "name": "ipython",
    "version": 3
   },
   "file_extension": ".py",
   "mimetype": "text/x-python",
   "name": "python",
   "nbconvert_exporter": "python",
   "pygments_lexer": "ipython3",
   "version": "3.8.19"
  }
 },
 "nbformat": 4,
 "nbformat_minor": 2
}
